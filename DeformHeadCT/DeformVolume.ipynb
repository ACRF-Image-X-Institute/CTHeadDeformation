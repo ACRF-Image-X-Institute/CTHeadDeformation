{
 "cells": [
  {
   "cell_type": "markdown",
   "id": "167de0e6-395b-422e-a576-7846fa418512",
   "metadata": {},
   "source": [
    "This notebook does the same thing as 'DeformVolume.py' but is also a step-by-step guide through the process."
   ]
  },
  {
   "cell_type": "markdown",
   "id": "17f93ab7-0f0e-463b-82ba-b28700c0dc1a",
   "metadata": {},
   "source": [
    "Firstly we define the modules that we are going to be using:"
   ]
  },
  {
   "cell_type": "code",
   "execution_count": null,
   "id": "df68e2a3-55b5-4bdb-8381-c64a2cbee5f7",
   "metadata": {},
   "outputs": [],
   "source": [
    "#External Modules\n",
    "import re\n",
    "import shutil\n",
    "import argparse\n",
    "import numpy as np\n",
    "import SimpleITK as sitk\n",
    "from pathlib import Path\n",
    "\n",
    "#Platipy Modules\n",
    "from platipy.imaging.registration.utils import apply_transform\n",
    "\n",
    "#Custom Mdules\n",
    "from DeformHeadCT.VolumeInfo import VolumeDeformation\n",
    "from DeformHeadCT.deformation import (\n",
    "    PrepareRegistration,\n",
    "    HeadDeformation\n",
    "    )"
   ]
  },
  {
   "cell_type": "markdown",
   "id": "11d67356-0f04-4482-982b-1e781cb60030",
   "metadata": {},
   "source": [
    "Next we will define some input parameters, including the location of the dicom files to be processed, and what kind of deformation will be applied to the volumes. \n",
    "Shown below is both options inlcuding how to use a json file to initialise the functions, and how to manually enter the parameters:"
   ]
  },
  {
   "cell_type": "code",
   "execution_count": null,
   "id": "4bade63a-4822-4250-964e-9428fd162afc",
   "metadata": {},
   "outputs": [],
   "source": [
    "#This is the file name of the elastix parameter file used to do the rigid/non-rigid registration. An example parameter file is found in the \"examples\" directory\n",
    "RegParamFile = 'examples/Elastix_BSpline_OpenCL_RigidPenalty.txt'"
   ]
  },
  {
   "cell_type": "markdown",
   "id": "5701da70-f79f-4541-9f98-74561e773959",
   "metadata": {},
   "source": [
    "How to Initialise using a json file:"
   ]
  },
  {
   "cell_type": "code",
   "execution_count": null,
   "id": "d4663dbe-65dd-4cdc-8b23-5df86f081234",
   "metadata": {},
   "outputs": [],
   "source": [
    "#This is the file name of the json file that contains the volume and deformation parameters \n",
    "InfoFile = 'examples/OneAxisRotationANDGTVShift.json'\n",
    "#Get volume information from json file\n",
    "VolInfo = VolumeDeformation(InfoFile=InfoFile)"
   ]
  },
  {
   "cell_type": "markdown",
   "id": "0b4a76ce-ddab-4841-b8f5-616f3abc6099",
   "metadata": {},
   "source": [
    "How to Initialise using manual parameters (uncomment the code below to run):"
   ]
  },
  {
   "cell_type": "code",
   "execution_count": null,
   "id": "465deece-b74a-42db-9559-b7b66b387e7b",
   "metadata": {},
   "outputs": [],
   "source": [
    "#name = \"\"\n",
    "#InputDirectory = \"\"\n",
    "#StructureFile = \"\"\n",
    "#TempDirectory = examples/TestingTempDir\n",
    "#OutputDirectory = examples/TestingGitHubThing\n",
    "#axes = [-1, 0, 0] \n",
    "#angles = [2.5] \n",
    "#coordinates_cutoff = [[67, 268, 254], [58, 196, 254]]\n",
    "#VertDict = {}\n",
    "#VertDict[\"Oc-C1\"] = [100, 229, 258] \n",
    "#VertDict[\"C1-C2\"] = [93, 228, 258] \n",
    "#VertDict[\"C2-C3\"] = [84, 227, 257] \n",
    "#Structure_Names=\"GTV_66\",\n",
    "#Structure_Shift = [3.8,2.2,0]\n",
    "\n",
    "#VolInfo = VolumeDeformation(patient_id = name,axes = axes,angles = angles,InputDir = '',\n",
    "#                            StructDir = StructureFile, OutputDir = OutputDirectory,\n",
    "#                            nifti_directory = TempDirectory, Structure_Names = Structure_Names,\n",
    "#                            coordinates_cutoff = coordinates_cutoff, VertDict = VertDict,\n",
    "#                            Structure_Shift = Structure_Shift)"
   ]
  },
  {
   "cell_type": "markdown",
   "id": "d909073c-ef37-4568-99cc-a7ab2ef20895",
   "metadata": {},
   "source": [
    "Organise the dcm files and then convert the files from dicom to nifit format"
   ]
  },
  {
   "cell_type": "code",
   "execution_count": null,
   "id": "05b3e940-2c76-42c6-90b8-06a4b015710b",
   "metadata": {},
   "outputs": [],
   "source": [
    "VolInfo.PrepareDcmData()"
   ]
  },
  {
   "cell_type": "markdown",
   "id": "07a38d90-7d03-4128-b043-871d574558b0",
   "metadata": {},
   "source": [
    "Initialise the head deformation class, which contains the calculated dvf to deform the initial ct to the final deformed ct. "
   ]
  },
  {
   "cell_type": "code",
   "execution_count": null,
   "id": "d9e21c2e-0891-4308-9c5c-e545bf28901a",
   "metadata": {},
   "outputs": [],
   "source": [
    "HeadDef = HeadDeformation(VolInfo.nifti_directory,VolInfo.patientunderscore,structShiftFlag=1)"
   ]
  },
  {
   "cell_type": "markdown",
   "id": "2c8c586c-3b3f-434f-86a1-62e973206f66",
   "metadata": {},
   "source": [
    "Apply the head rotation as defined by the angles and axes parameters"
   ]
  },
  {
   "cell_type": "code",
   "execution_count": null,
   "id": "bf9a4e33-75be-4042-93e6-29a9dc0c7e83",
   "metadata": {},
   "outputs": [],
   "source": [
    "HeadDef.ApplyHeadRotation(VolInfo.coordinates_cutoff,VolInfo.angles,VolInfo.axes,VolInfo.point_of_rotation) "
   ]
  },
  {
   "cell_type": "markdown",
   "id": "78e7f5ca-1b36-465d-999d-434b66b565b1",
   "metadata": {},
   "source": [
    "Apply the rigid shift of the structures as defined by the Structure_Names and Structure_Shift parameters"
   ]
  },
  {
   "cell_type": "code",
   "execution_count": null,
   "id": "5a3ed7de-8f15-43ac-a22d-d4a46b9c3c43",
   "metadata": {},
   "outputs": [],
   "source": [
    "HeadDef.ApplyGTVShift(VolInfo.Structure_Shift,VolInfo.Structure_Names)"
   ]
  },
  {
   "cell_type": "markdown",
   "id": "58bf8502-7f45-4c43-a61b-452cf7a64fd9",
   "metadata": {},
   "source": [
    "Convert the calculated DVF to a SimpleITK transform type and deform the initial ct using the unsmoothed dvf"
   ]
  },
  {
   "cell_type": "code",
   "execution_count": null,
   "id": "5dd5b363-8cf1-41b4-85d6-8929ca1716f7",
   "metadata": {},
   "outputs": [],
   "source": [
    "InitialTransform = sitk.DisplacementFieldTransform(\n",
    "    sitk.Cast(HeadDef.dvf_field, sitk.sitkVectorFloat64)\n",
    ")\n",
    "#Deform CT volume using initial transformation\n",
    "image_ct_deformed = apply_transform(HeadDef.image_ct, transform=InitialTransform, interpolator=sitk.sitkLinear)"
   ]
  },
  {
   "cell_type": "markdown",
   "id": "9f24a0a1-14bb-4bdf-9ae0-c4c58407d319",
   "metadata": {},
   "source": [
    "Setup and apply the rigid/non-rigid registration completed using the elastix program"
   ]
  },
  {
   "cell_type": "code",
   "execution_count": null,
   "id": "d5ba6b9b-17d6-4cb1-ac98-33834a137137",
   "metadata": {},
   "outputs": [],
   "source": [
    "dvf_New = PrepareRegistration(HeadDef.image_ct,image_ct_deformed,VolInfo.nifti_directory,RegParamFile)"
   ]
  },
  {
   "cell_type": "markdown",
   "id": "89cd94e4-7034-4956-8abc-122cb4a07ab6",
   "metadata": {},
   "source": [
    "Apply dvf to CT image and structures"
   ]
  },
  {
   "cell_type": "code",
   "execution_count": null,
   "id": "b3f7e5bf-dfc2-4fb2-b963-ee040d582b22",
   "metadata": {},
   "outputs": [],
   "source": [
    "#Cast dvf prior to transformation\n",
    "FinalTransform = sitk.DisplacementFieldTransform(\n",
    "    sitk.Cast(dvf_New, sitk.sitkVectorFloat64)\n",
    ")\n",
    "\n",
    "#Use DVF to deform CT\n",
    "image_ct_deformed2 = apply_transform(HeadDef.image_ct, transform=FinalTransform, interpolator=sitk.sitkLinear)\n",
    "\n",
    "deformed_structures = {}\n",
    "\n",
    "#apply dvf field to deformed_structures   \n",
    "structures = {re.findall(\".*_RTSTRUCT_(.*).nii.gz\", p.name)[0]: sitk.ReadImage(str(p)) for p in HeadDef.structure_paths}\n",
    "for struct in structures:\n",
    "    deformed_structures[struct] = apply_transform(structures[struct], transform=FinalTransform, default_value=0,interpolator=sitk.sitkLinear)"
   ]
  },
  {
   "cell_type": "markdown",
   "id": "c71de280-7cfa-4338-9b9e-a0947dc31d27",
   "metadata": {},
   "source": [
    "Write the deformed ct volume and structures in a dicom format"
   ]
  },
  {
   "cell_type": "code",
   "execution_count": null,
   "id": "2fae8d1a-bc78-4090-9785-cd8c27f2481f",
   "metadata": {},
   "outputs": [],
   "source": [
    "VolInfo.WriteVolumesToFile(image_ct_deformed2,1,deformed_structures)"
   ]
  },
  {
   "cell_type": "markdown",
   "id": "c54e9e26-10d1-486b-90d7-f68855a0594b",
   "metadata": {},
   "source": [
    "(Optional) Delete the temporary files that were created to save space"
   ]
  },
  {
   "cell_type": "code",
   "execution_count": null,
   "id": "484e7b05-d694-43ba-8ed8-7f62e83a95f5",
   "metadata": {},
   "outputs": [],
   "source": [
    "shutil.rmtree(input_dcm_dir = str(VolInfo.nifti_directory) + '/dicom')\n",
    "shutil.rmtree(VolInfo.nifti_directory)\n",
    "if structShiftFlag:\n",
    "    shutil.rmtree(Path(VolInfo.OutputDir + '/OutputStructures'))"
   ]
  }
 ],
 "metadata": {
  "kernelspec": {
   "display_name": "Python 3 (ipykernel)",
   "language": "python",
   "name": "python3"
  },
  "language_info": {
   "codemirror_mode": {
    "name": "ipython",
    "version": 3
   },
   "file_extension": ".py",
   "mimetype": "text/x-python",
   "name": "python",
   "nbconvert_exporter": "python",
   "pygments_lexer": "ipython3",
   "version": "3.9.12"
  }
 },
 "nbformat": 4,
 "nbformat_minor": 5
}
